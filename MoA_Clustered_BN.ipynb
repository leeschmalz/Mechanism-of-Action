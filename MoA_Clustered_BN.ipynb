{
 "cells": [
  {
   "cell_type": "code",
   "execution_count": 1,
   "metadata": {},
   "outputs": [],
   "source": [
    "import pandas as pd\n",
    "from pgmpy.models import BayesianModel\n",
    "from tqdm import tqdm\n",
    "import numpy as np\n",
    "from pgmpy.inference import VariableElimination\n",
    "import random\n",
    "import networkx as nx\n",
    "import pylab as plt\n",
    "from create_network import create_network\n",
    "import random"
   ]
  },
  {
   "cell_type": "code",
   "execution_count": 2,
   "metadata": {},
   "outputs": [],
   "source": [
    "train_df = pd.read_csv('train_features_binary.csv')\n",
    "train_df.drop('Unnamed: 0',inplace=True,axis=1)"
   ]
  },
  {
   "cell_type": "code",
   "execution_count": 3,
   "metadata": {},
   "outputs": [],
   "source": [
    "corr_df = pd.read_csv('feature_correlation.csv')\n",
    "corr_df.drop('Unnamed: 0',inplace=True,axis=1)"
   ]
  },
  {
   "cell_type": "code",
   "execution_count": 4,
   "metadata": {},
   "outputs": [
    {
     "data": {
      "text/html": [
       "<div>\n",
       "<style scoped>\n",
       "    .dataframe tbody tr th:only-of-type {\n",
       "        vertical-align: middle;\n",
       "    }\n",
       "\n",
       "    .dataframe tbody tr th {\n",
       "        vertical-align: top;\n",
       "    }\n",
       "\n",
       "    .dataframe thead th {\n",
       "        text-align: right;\n",
       "    }\n",
       "</style>\n",
       "<table border=\"1\" class=\"dataframe\">\n",
       "  <thead>\n",
       "    <tr style=\"text-align: right;\">\n",
       "      <th></th>\n",
       "      <th>feature1</th>\n",
       "      <th>feature2</th>\n",
       "      <th>correlation</th>\n",
       "    </tr>\n",
       "  </thead>\n",
       "  <tbody>\n",
       "    <tr>\n",
       "      <th>0</th>\n",
       "      <td>c-52</td>\n",
       "      <td>c-42</td>\n",
       "      <td>0.924619</td>\n",
       "    </tr>\n",
       "    <tr>\n",
       "      <th>1</th>\n",
       "      <td>c-73</td>\n",
       "      <td>c-13</td>\n",
       "      <td>0.923344</td>\n",
       "    </tr>\n",
       "    <tr>\n",
       "      <th>2</th>\n",
       "      <td>c-26</td>\n",
       "      <td>c-13</td>\n",
       "      <td>0.921875</td>\n",
       "    </tr>\n",
       "    <tr>\n",
       "      <th>3</th>\n",
       "      <td>c-33</td>\n",
       "      <td>c-6</td>\n",
       "      <td>0.914730</td>\n",
       "    </tr>\n",
       "    <tr>\n",
       "      <th>4</th>\n",
       "      <td>c-55</td>\n",
       "      <td>c-11</td>\n",
       "      <td>0.914637</td>\n",
       "    </tr>\n",
       "    <tr>\n",
       "      <th>...</th>\n",
       "      <td>...</td>\n",
       "      <td>...</td>\n",
       "      <td>...</td>\n",
       "    </tr>\n",
       "    <tr>\n",
       "      <th>110964</th>\n",
       "      <td>g-560</td>\n",
       "      <td>g-24</td>\n",
       "      <td>0.300016</td>\n",
       "    </tr>\n",
       "    <tr>\n",
       "      <th>110965</th>\n",
       "      <td>c-13</td>\n",
       "      <td>g-696</td>\n",
       "      <td>0.300006</td>\n",
       "    </tr>\n",
       "    <tr>\n",
       "      <th>110966</th>\n",
       "      <td>g-761</td>\n",
       "      <td>g-533</td>\n",
       "      <td>0.300004</td>\n",
       "    </tr>\n",
       "    <tr>\n",
       "      <th>110967</th>\n",
       "      <td>g-711</td>\n",
       "      <td>g-8</td>\n",
       "      <td>0.300004</td>\n",
       "    </tr>\n",
       "    <tr>\n",
       "      <th>110968</th>\n",
       "      <td>c-60</td>\n",
       "      <td>g-653</td>\n",
       "      <td>0.300003</td>\n",
       "    </tr>\n",
       "  </tbody>\n",
       "</table>\n",
       "<p>110969 rows × 3 columns</p>\n",
       "</div>"
      ],
      "text/plain": [
       "       feature1 feature2  correlation\n",
       "0          c-52     c-42     0.924619\n",
       "1          c-73     c-13     0.923344\n",
       "2          c-26     c-13     0.921875\n",
       "3          c-33      c-6     0.914730\n",
       "4          c-55     c-11     0.914637\n",
       "...         ...      ...          ...\n",
       "110964    g-560     g-24     0.300016\n",
       "110965     c-13    g-696     0.300006\n",
       "110966    g-761    g-533     0.300004\n",
       "110967    g-711      g-8     0.300004\n",
       "110968     c-60    g-653     0.300003\n",
       "\n",
       "[110969 rows x 3 columns]"
      ]
     },
     "execution_count": 4,
     "metadata": {},
     "output_type": "execute_result"
    }
   ],
   "source": [
    "corr_df"
   ]
  },
  {
   "cell_type": "code",
   "execution_count": 5,
   "metadata": {},
   "outputs": [],
   "source": [
    "def make_clusters(n_clusters, max_conns_per_cluster, corr_df):\n",
    "    clusters = []\n",
    "    nodes_in_network = []\n",
    "    for i in range(n_clusters):\n",
    "        conns = []\n",
    "        nodes_in_cluster = []\n",
    "        for corr in range(len(corr_df)):\n",
    "            if len(nodes_in_cluster) == 0 and corr_df['feature1'][corr] not in nodes_in_network and corr_df['feature2'][corr] not in nodes_in_network:\n",
    "                conns.append((corr_df['feature1'][corr],corr_df['feature2'][corr]))\n",
    "                nodes_in_cluster.append(corr_df['feature1'][corr])\n",
    "                nodes_in_cluster.append(corr_df['feature2'][corr])\n",
    "                \n",
    "            if len(nodes_in_cluster) > 0 and (corr_df['feature1'][corr] in nodes_in_cluster or corr_df['feature2'][corr] in nodes_in_cluster) and corr_df['feature1'][corr] not in nodes_in_network and corr_df['feature2'][corr] not in nodes_in_network:\n",
    "                conns.append((corr_df['feature1'][corr],corr_df['feature2'][corr]))\n",
    "                nodes_in_cluster.append(corr_df['feature1'][corr])\n",
    "                nodes_in_cluster.append(corr_df['feature2'][corr])\n",
    "                conns = list(set(conns))\n",
    "                if len(conns) == max_conns_per_cluster:\n",
    "                    clusters = clusters + conns\n",
    "                    nodes_in_network = nodes_in_network + nodes_in_cluster\n",
    "                    print(conns)\n",
    "                    print(f'broke at corr {corr}')\n",
    "                    break\n",
    "    clusters = list(set(clusters))\n",
    "    return clusters"
   ]
  },
  {
   "cell_type": "code",
   "execution_count": 6,
   "metadata": {},
   "outputs": [
    {
     "name": "stdout",
     "output_type": "stream",
     "text": [
      "[('c-4', 'c-52'), ('c-85', 'c-31'), ('c-52', 'c-42'), ('c-4', 'c-13'), ('c-62', 'c-42'), ('c-4', 'c-42'), ('c-55', 'c-90'), ('c-4', 'c-55'), ('c-52', 'c-31'), ('c-42', 'c-94'), ('c-6', 'c-42'), ('c-60', 'c-94'), ('c-2', 'c-42'), ('c-10', 'c-42'), ('c-2', 'c-13'), ('c-10', 'c-82'), ('c-31', 'c-42'), ('c-63', 'c-42'), ('c-4', 'c-2'), ('c-66', 'c-42'), ('c-42', 'c-82'), ('c-2', 'c-40'), ('c-26', 'c-38'), ('c-2', 'c-94'), ('c-13', 'c-42'), ('c-10', 'c-13'), ('c-55', 'c-38'), ('c-66', 'c-82'), ('c-73', 'c-94'), ('c-51', 'c-42')]\n",
      "broke at corr 40\n",
      "[('c-81', 'g-744'), ('g-386', 'g-349'), ('g-37', 'g-72'), ('g-489', 'g-257'), ('g-50', 'g-257'), ('g-744', 'g-72'), ('c-18', 'c-61'), ('g-50', 'g-761'), ('g-72', 'g-63'), ('c-18', 'g-672'), ('g-37', 'g-50'), ('g-50', 'g-672'), ('g-672', 'g-186'), ('g-50', 'g-185'), ('g-37', 'g-63'), ('g-489', 'g-50'), ('g-672', 'g-185'), ('g-121', 'g-672'), ('g-50', 'g-58'), ('g-439', 'g-50'), ('g-37', 'g-369'), ('g-50', 'g-186'), ('g-386', 'g-63'), ('g-37', 'g-761'), ('g-37', 'g-257'), ('c-61', 'g-123'), ('g-63', 'g-228'), ('g-489', 'g-37'), ('g-744', 'g-349'), ('g-37', 'g-672')]\n",
      "broke at corr 5190\n",
      "[('c-33', 'c-15'), ('c-96', 'c-17'), ('c-33', 'c-91'), ('c-96', 'c-54'), ('c-33', 'c-93'), ('c-44', 'c-91'), ('c-96', 'c-83'), ('c-1', 'c-11'), ('c-44', 'c-27'), ('c-44', 'c-54'), ('c-43', 'c-11'), ('c-33', 'c-45'), ('c-96', 'c-44'), ('c-44', 'c-33'), ('c-33', 'c-41'), ('c-36', 'c-11'), ('c-96', 'c-41'), ('c-83', 'c-93'), ('c-96', 'c-33'), ('c-33', 'c-17'), ('c-70', 'c-33'), ('c-96', 'c-11'), ('c-83', 'c-17'), ('c-33', 'c-11'), ('c-33', 'c-83'), ('c-45', 'c-20'), ('c-83', 'c-27'), ('c-17', 'c-91'), ('c-8', 'c-11'), ('c-44', 'c-17')]\n",
      "broke at corr 538\n"
     ]
    }
   ],
   "source": [
    "clusters = make_clusters(3,20,corr_df)"
   ]
  },
  {
   "cell_type": "code",
   "execution_count": 7,
   "metadata": {},
   "outputs": [
    {
     "data": {
      "text/plain": [
       "[('c-4', 'c-52'),\n",
       " ('c-85', 'c-31'),\n",
       " ('g-744', 'g-72'),\n",
       " ('c-18', 'c-61'),\n",
       " ('g-50', 'g-761'),\n",
       " ('c-55', 'c-90'),\n",
       " ('c-18', 'g-672'),\n",
       " ('g-37', 'g-50'),\n",
       " ('c-44', 'c-91'),\n",
       " ('c-1', 'c-11'),\n",
       " ('g-672', 'g-186'),\n",
       " ('c-33', 'c-45'),\n",
       " ('c-52', 'c-31'),\n",
       " ('c-44', 'c-33'),\n",
       " ('c-36', 'c-11'),\n",
       " ('c-10', 'c-82'),\n",
       " ('c-31', 'c-42'),\n",
       " ('c-83', 'c-93'),\n",
       " ('g-50', 'g-58'),\n",
       " ('g-37', 'g-369'),\n",
       " ('c-45', 'c-20'),\n",
       " ('c-2', 'c-40'),\n",
       " ('g-37', 'g-257'),\n",
       " ('c-55', 'c-38'),\n",
       " ('c-33', 'c-15'),\n",
       " ('g-744', 'g-349'),\n",
       " ('c-81', 'g-744'),\n",
       " ('c-52', 'c-42'),\n",
       " ('g-489', 'g-257'),\n",
       " ('c-4', 'c-42'),\n",
       " ('g-50', 'g-257'),\n",
       " ('g-37', 'g-63'),\n",
       " ('g-672', 'g-185'),\n",
       " ('c-83', 'c-17'),\n",
       " ('g-439', 'g-50'),\n",
       " ('c-13', 'c-42'),\n",
       " ('c-61', 'g-123'),\n",
       " ('c-8', 'c-11'),\n",
       " ('c-66', 'c-82'),\n",
       " ('c-73', 'c-94'),\n",
       " ('c-51', 'c-42'),\n",
       " ('c-10', 'c-42'),\n",
       " ('c-17', 'c-91'),\n",
       " ('g-37', 'g-672'),\n",
       " ('g-386', 'g-349'),\n",
       " ('g-37', 'g-72'),\n",
       " ('c-4', 'c-13'),\n",
       " ('c-96', 'c-54'),\n",
       " ('g-72', 'g-63'),\n",
       " ('c-4', 'c-55'),\n",
       " ('c-43', 'c-11'),\n",
       " ('g-50', 'g-185'),\n",
       " ('c-96', 'c-44'),\n",
       " ('c-42', 'c-94'),\n",
       " ('c-60', 'c-94'),\n",
       " ('c-2', 'c-13'),\n",
       " ('c-33', 'c-41'),\n",
       " ('c-96', 'c-33'),\n",
       " ('c-33', 'c-17'),\n",
       " ('c-70', 'c-33'),\n",
       " ('c-96', 'c-11'),\n",
       " ('c-42', 'c-82'),\n",
       " ('g-50', 'g-186'),\n",
       " ('c-2', 'c-94'),\n",
       " ('c-10', 'c-13'),\n",
       " ('c-96', 'c-17'),\n",
       " ('c-62', 'c-42'),\n",
       " ('c-33', 'c-91'),\n",
       " ('c-33', 'c-93'),\n",
       " ('c-96', 'c-83'),\n",
       " ('c-44', 'c-27'),\n",
       " ('g-50', 'g-672'),\n",
       " ('c-44', 'c-54'),\n",
       " ('c-6', 'c-42'),\n",
       " ('c-2', 'c-42'),\n",
       " ('g-489', 'g-50'),\n",
       " ('g-121', 'g-672'),\n",
       " ('c-96', 'c-41'),\n",
       " ('c-63', 'c-42'),\n",
       " ('c-4', 'c-2'),\n",
       " ('c-66', 'c-42'),\n",
       " ('c-33', 'c-11'),\n",
       " ('c-33', 'c-83'),\n",
       " ('g-386', 'g-63'),\n",
       " ('c-26', 'c-38'),\n",
       " ('g-37', 'g-761'),\n",
       " ('c-83', 'c-27'),\n",
       " ('g-63', 'g-228'),\n",
       " ('g-489', 'g-37'),\n",
       " ('c-44', 'c-17')]"
      ]
     },
     "execution_count": 7,
     "metadata": {},
     "output_type": "execute_result"
    }
   ],
   "source": [
    "clusters"
   ]
  },
  {
   "cell_type": "code",
   "execution_count": 8,
   "metadata": {},
   "outputs": [],
   "source": [
    "model, nodes_added = create_network(2,2,clusters)"
   ]
  },
  {
   "cell_type": "code",
   "execution_count": 9,
   "metadata": {},
   "outputs": [
    {
     "data": {
      "text/plain": [
       "52"
      ]
     },
     "execution_count": 9,
     "metadata": {},
     "output_type": "execute_result"
    }
   ],
   "source": [
    "len(nodes_added)"
   ]
  },
  {
   "cell_type": "code",
   "execution_count": 10,
   "metadata": {},
   "outputs": [
    {
     "ename": "KeyboardInterrupt",
     "evalue": "",
     "output_type": "error",
     "traceback": [
      "\u001b[1;31m---------------------------------------------------------------------------\u001b[0m",
      "\u001b[1;31mKeyboardInterrupt\u001b[0m                         Traceback (most recent call last)",
      "\u001b[1;32m<ipython-input-10-6e7b2032916d>\u001b[0m in \u001b[0;36m<module>\u001b[1;34m\u001b[0m\n\u001b[0;32m      1\u001b[0m \u001b[1;31m#model.fit automatically finds cpds for each node\u001b[0m\u001b[1;33m\u001b[0m\u001b[1;33m\u001b[0m\u001b[1;33m\u001b[0m\u001b[0m\n\u001b[1;32m----> 2\u001b[1;33m \u001b[0mmodel\u001b[0m\u001b[1;33m.\u001b[0m\u001b[0mfit\u001b[0m\u001b[1;33m(\u001b[0m\u001b[0mtrain_df\u001b[0m\u001b[1;33m)\u001b[0m\u001b[1;33m\u001b[0m\u001b[1;33m\u001b[0m\u001b[0m\n\u001b[0m\u001b[0;32m      3\u001b[0m \u001b[1;33m\u001b[0m\u001b[0m\n\u001b[0;32m      4\u001b[0m \u001b[1;31m#compute variable eliminations for node independencies to speed up model\u001b[0m\u001b[1;33m\u001b[0m\u001b[1;33m\u001b[0m\u001b[1;33m\u001b[0m\u001b[0m\n\u001b[0;32m      5\u001b[0m \u001b[0minfer\u001b[0m \u001b[1;33m=\u001b[0m \u001b[0mVariableElimination\u001b[0m\u001b[1;33m(\u001b[0m\u001b[0mmodel\u001b[0m\u001b[1;33m)\u001b[0m\u001b[1;33m\u001b[0m\u001b[1;33m\u001b[0m\u001b[0m\n",
      "\u001b[1;32m~\\miniconda3\\envs\\tensorflownew\\lib\\site-packages\\pgmpy\\models\\BayesianModel.py\u001b[0m in \u001b[0;36mfit\u001b[1;34m(self, data, estimator, state_names, complete_samples_only, **kwargs)\u001b[0m\n\u001b[0;32m    520\u001b[0m             \u001b[0mcomplete_samples_only\u001b[0m\u001b[1;33m=\u001b[0m\u001b[0mcomplete_samples_only\u001b[0m\u001b[1;33m,\u001b[0m\u001b[1;33m\u001b[0m\u001b[1;33m\u001b[0m\u001b[0m\n\u001b[0;32m    521\u001b[0m         )\n\u001b[1;32m--> 522\u001b[1;33m         \u001b[0mcpds_list\u001b[0m \u001b[1;33m=\u001b[0m \u001b[0m_estimator\u001b[0m\u001b[1;33m.\u001b[0m\u001b[0mget_parameters\u001b[0m\u001b[1;33m(\u001b[0m\u001b[1;33m**\u001b[0m\u001b[0mkwargs\u001b[0m\u001b[1;33m)\u001b[0m\u001b[1;33m\u001b[0m\u001b[1;33m\u001b[0m\u001b[0m\n\u001b[0m\u001b[0;32m    523\u001b[0m         \u001b[0mself\u001b[0m\u001b[1;33m.\u001b[0m\u001b[0madd_cpds\u001b[0m\u001b[1;33m(\u001b[0m\u001b[1;33m*\u001b[0m\u001b[0mcpds_list\u001b[0m\u001b[1;33m)\u001b[0m\u001b[1;33m\u001b[0m\u001b[1;33m\u001b[0m\u001b[0m\n\u001b[0;32m    524\u001b[0m \u001b[1;33m\u001b[0m\u001b[0m\n",
      "\u001b[1;32m~\\miniconda3\\envs\\tensorflownew\\lib\\site-packages\\pgmpy\\estimators\\MLE.py\u001b[0m in \u001b[0;36mget_parameters\u001b[1;34m(self)\u001b[0m\n\u001b[0;32m     81\u001b[0m \u001b[1;33m\u001b[0m\u001b[0m\n\u001b[0;32m     82\u001b[0m         \u001b[1;32mfor\u001b[0m \u001b[0mnode\u001b[0m \u001b[1;32min\u001b[0m \u001b[0msorted\u001b[0m\u001b[1;33m(\u001b[0m\u001b[0mself\u001b[0m\u001b[1;33m.\u001b[0m\u001b[0mmodel\u001b[0m\u001b[1;33m.\u001b[0m\u001b[0mnodes\u001b[0m\u001b[1;33m(\u001b[0m\u001b[1;33m)\u001b[0m\u001b[1;33m)\u001b[0m\u001b[1;33m:\u001b[0m\u001b[1;33m\u001b[0m\u001b[1;33m\u001b[0m\u001b[0m\n\u001b[1;32m---> 83\u001b[1;33m             \u001b[0mcpd\u001b[0m \u001b[1;33m=\u001b[0m \u001b[0mself\u001b[0m\u001b[1;33m.\u001b[0m\u001b[0mestimate_cpd\u001b[0m\u001b[1;33m(\u001b[0m\u001b[0mnode\u001b[0m\u001b[1;33m)\u001b[0m\u001b[1;33m\u001b[0m\u001b[1;33m\u001b[0m\u001b[0m\n\u001b[0m\u001b[0;32m     84\u001b[0m             \u001b[0mparameters\u001b[0m\u001b[1;33m.\u001b[0m\u001b[0mappend\u001b[0m\u001b[1;33m(\u001b[0m\u001b[0mcpd\u001b[0m\u001b[1;33m)\u001b[0m\u001b[1;33m\u001b[0m\u001b[1;33m\u001b[0m\u001b[0m\n\u001b[0;32m     85\u001b[0m \u001b[1;33m\u001b[0m\u001b[0m\n",
      "\u001b[1;32m~\\miniconda3\\envs\\tensorflownew\\lib\\site-packages\\pgmpy\\estimators\\MLE.py\u001b[0m in \u001b[0;36mestimate_cpd\u001b[1;34m(self, node)\u001b[0m\n\u001b[0;32m    130\u001b[0m         \u001b[1;31m# if a column contains only `0`s (no states observed for some configuration\u001b[0m\u001b[1;33m\u001b[0m\u001b[1;33m\u001b[0m\u001b[1;33m\u001b[0m\u001b[0m\n\u001b[0;32m    131\u001b[0m         \u001b[1;31m# of parents' states) fill that column uniformly instead\u001b[0m\u001b[1;33m\u001b[0m\u001b[1;33m\u001b[0m\u001b[1;33m\u001b[0m\u001b[0m\n\u001b[1;32m--> 132\u001b[1;33m         \u001b[0mstate_counts\u001b[0m\u001b[1;33m.\u001b[0m\u001b[0mloc\u001b[0m\u001b[1;33m[\u001b[0m\u001b[1;33m:\u001b[0m\u001b[1;33m,\u001b[0m \u001b[1;33m(\u001b[0m\u001b[0mstate_counts\u001b[0m \u001b[1;33m==\u001b[0m \u001b[1;36m0\u001b[0m\u001b[1;33m)\u001b[0m\u001b[1;33m.\u001b[0m\u001b[0mall\u001b[0m\u001b[1;33m(\u001b[0m\u001b[1;33m)\u001b[0m\u001b[1;33m]\u001b[0m \u001b[1;33m=\u001b[0m \u001b[1;36m1\u001b[0m\u001b[1;33m\u001b[0m\u001b[1;33m\u001b[0m\u001b[0m\n\u001b[0m\u001b[0;32m    133\u001b[0m \u001b[1;33m\u001b[0m\u001b[0m\n\u001b[0;32m    134\u001b[0m         \u001b[0mparents\u001b[0m \u001b[1;33m=\u001b[0m \u001b[0msorted\u001b[0m\u001b[1;33m(\u001b[0m\u001b[0mself\u001b[0m\u001b[1;33m.\u001b[0m\u001b[0mmodel\u001b[0m\u001b[1;33m.\u001b[0m\u001b[0mget_parents\u001b[0m\u001b[1;33m(\u001b[0m\u001b[0mnode\u001b[0m\u001b[1;33m)\u001b[0m\u001b[1;33m)\u001b[0m\u001b[1;33m\u001b[0m\u001b[1;33m\u001b[0m\u001b[0m\n",
      "\u001b[1;32m~\\miniconda3\\envs\\tensorflownew\\lib\\site-packages\\pandas\\core\\indexing.py\u001b[0m in \u001b[0;36m__setitem__\u001b[1;34m(self, key, value)\u001b[0m\n\u001b[0;32m    668\u001b[0m \u001b[1;33m\u001b[0m\u001b[0m\n\u001b[0;32m    669\u001b[0m         \u001b[0miloc\u001b[0m \u001b[1;33m=\u001b[0m \u001b[0mself\u001b[0m \u001b[1;32mif\u001b[0m \u001b[0mself\u001b[0m\u001b[1;33m.\u001b[0m\u001b[0mname\u001b[0m \u001b[1;33m==\u001b[0m \u001b[1;34m\"iloc\"\u001b[0m \u001b[1;32melse\u001b[0m \u001b[0mself\u001b[0m\u001b[1;33m.\u001b[0m\u001b[0mobj\u001b[0m\u001b[1;33m.\u001b[0m\u001b[0miloc\u001b[0m\u001b[1;33m\u001b[0m\u001b[1;33m\u001b[0m\u001b[0m\n\u001b[1;32m--> 670\u001b[1;33m         \u001b[0miloc\u001b[0m\u001b[1;33m.\u001b[0m\u001b[0m_setitem_with_indexer\u001b[0m\u001b[1;33m(\u001b[0m\u001b[0mindexer\u001b[0m\u001b[1;33m,\u001b[0m \u001b[0mvalue\u001b[0m\u001b[1;33m)\u001b[0m\u001b[1;33m\u001b[0m\u001b[1;33m\u001b[0m\u001b[0m\n\u001b[0m\u001b[0;32m    671\u001b[0m \u001b[1;33m\u001b[0m\u001b[0m\n\u001b[0;32m    672\u001b[0m     \u001b[1;32mdef\u001b[0m \u001b[0m_validate_key\u001b[0m\u001b[1;33m(\u001b[0m\u001b[0mself\u001b[0m\u001b[1;33m,\u001b[0m \u001b[0mkey\u001b[0m\u001b[1;33m,\u001b[0m \u001b[0maxis\u001b[0m\u001b[1;33m:\u001b[0m \u001b[0mint\u001b[0m\u001b[1;33m)\u001b[0m\u001b[1;33m:\u001b[0m\u001b[1;33m\u001b[0m\u001b[1;33m\u001b[0m\u001b[0m\n",
      "\u001b[1;32m~\\miniconda3\\envs\\tensorflownew\\lib\\site-packages\\pandas\\core\\indexing.py\u001b[0m in \u001b[0;36m_setitem_with_indexer\u001b[1;34m(self, indexer, value)\u001b[0m\n\u001b[0;32m   1763\u001b[0m                 \u001b[1;31m# scalar value\u001b[0m\u001b[1;33m\u001b[0m\u001b[1;33m\u001b[0m\u001b[1;33m\u001b[0m\u001b[0m\n\u001b[0;32m   1764\u001b[0m                 \u001b[1;32mfor\u001b[0m \u001b[0mloc\u001b[0m \u001b[1;32min\u001b[0m \u001b[0milocs\u001b[0m\u001b[1;33m:\u001b[0m\u001b[1;33m\u001b[0m\u001b[1;33m\u001b[0m\u001b[0m\n\u001b[1;32m-> 1765\u001b[1;33m                     \u001b[0misetter\u001b[0m\u001b[1;33m(\u001b[0m\u001b[0mloc\u001b[0m\u001b[1;33m,\u001b[0m \u001b[0mvalue\u001b[0m\u001b[1;33m)\u001b[0m\u001b[1;33m\u001b[0m\u001b[1;33m\u001b[0m\u001b[0m\n\u001b[0m\u001b[0;32m   1766\u001b[0m \u001b[1;33m\u001b[0m\u001b[0m\n\u001b[0;32m   1767\u001b[0m         \u001b[1;32melse\u001b[0m\u001b[1;33m:\u001b[0m\u001b[1;33m\u001b[0m\u001b[1;33m\u001b[0m\u001b[0m\n",
      "\u001b[1;32m~\\miniconda3\\envs\\tensorflownew\\lib\\site-packages\\pandas\\core\\indexing.py\u001b[0m in \u001b[0;36misetter\u001b[1;34m(loc, v)\u001b[0m\n\u001b[0;32m   1693\u001b[0m \u001b[1;33m\u001b[0m\u001b[0m\n\u001b[0;32m   1694\u001b[0m                 \u001b[1;31m# reset the sliced object if unique\u001b[0m\u001b[1;33m\u001b[0m\u001b[1;33m\u001b[0m\u001b[1;33m\u001b[0m\u001b[0m\n\u001b[1;32m-> 1695\u001b[1;33m                 \u001b[0mself\u001b[0m\u001b[1;33m.\u001b[0m\u001b[0mobj\u001b[0m\u001b[1;33m.\u001b[0m\u001b[0m_iset_item\u001b[0m\u001b[1;33m(\u001b[0m\u001b[0mloc\u001b[0m\u001b[1;33m,\u001b[0m \u001b[0mser\u001b[0m\u001b[1;33m)\u001b[0m\u001b[1;33m\u001b[0m\u001b[1;33m\u001b[0m\u001b[0m\n\u001b[0m\u001b[0;32m   1696\u001b[0m \u001b[1;33m\u001b[0m\u001b[0m\n\u001b[0;32m   1697\u001b[0m             \u001b[1;31m# we need an iterable, with a ndim of at least 1\u001b[0m\u001b[1;33m\u001b[0m\u001b[1;33m\u001b[0m\u001b[1;33m\u001b[0m\u001b[0m\n",
      "\u001b[1;32m~\\miniconda3\\envs\\tensorflownew\\lib\\site-packages\\pandas\\core\\frame.py\u001b[0m in \u001b[0;36m_iset_item\u001b[1;34m(self, loc, value)\u001b[0m\n\u001b[0;32m   3092\u001b[0m         \u001b[1;31m#  but the behavior is the same as long as we pass broadcast=False\u001b[0m\u001b[1;33m\u001b[0m\u001b[1;33m\u001b[0m\u001b[1;33m\u001b[0m\u001b[0m\n\u001b[0;32m   3093\u001b[0m         \u001b[0mvalue\u001b[0m \u001b[1;33m=\u001b[0m \u001b[0mself\u001b[0m\u001b[1;33m.\u001b[0m\u001b[0m_sanitize_column\u001b[0m\u001b[1;33m(\u001b[0m\u001b[0mloc\u001b[0m\u001b[1;33m,\u001b[0m \u001b[0mvalue\u001b[0m\u001b[1;33m,\u001b[0m \u001b[0mbroadcast\u001b[0m\u001b[1;33m=\u001b[0m\u001b[1;32mFalse\u001b[0m\u001b[1;33m)\u001b[0m\u001b[1;33m\u001b[0m\u001b[1;33m\u001b[0m\u001b[0m\n\u001b[1;32m-> 3094\u001b[1;33m         \u001b[0mNDFrame\u001b[0m\u001b[1;33m.\u001b[0m\u001b[0m_iset_item\u001b[0m\u001b[1;33m(\u001b[0m\u001b[0mself\u001b[0m\u001b[1;33m,\u001b[0m \u001b[0mloc\u001b[0m\u001b[1;33m,\u001b[0m \u001b[0mvalue\u001b[0m\u001b[1;33m)\u001b[0m\u001b[1;33m\u001b[0m\u001b[1;33m\u001b[0m\u001b[0m\n\u001b[0m\u001b[0;32m   3095\u001b[0m \u001b[1;33m\u001b[0m\u001b[0m\n\u001b[0;32m   3096\u001b[0m         \u001b[1;31m# check if we are modifying a copy\u001b[0m\u001b[1;33m\u001b[0m\u001b[1;33m\u001b[0m\u001b[1;33m\u001b[0m\u001b[0m\n",
      "\u001b[1;32m~\\miniconda3\\envs\\tensorflownew\\lib\\site-packages\\pandas\\core\\generic.py\u001b[0m in \u001b[0;36m_iset_item\u001b[1;34m(self, loc, value)\u001b[0m\n\u001b[0;32m   3558\u001b[0m \u001b[1;33m\u001b[0m\u001b[0m\n\u001b[0;32m   3559\u001b[0m     \u001b[1;32mdef\u001b[0m \u001b[0m_iset_item\u001b[0m\u001b[1;33m(\u001b[0m\u001b[0mself\u001b[0m\u001b[1;33m,\u001b[0m \u001b[0mloc\u001b[0m\u001b[1;33m:\u001b[0m \u001b[0mint\u001b[0m\u001b[1;33m,\u001b[0m \u001b[0mvalue\u001b[0m\u001b[1;33m)\u001b[0m \u001b[1;33m->\u001b[0m \u001b[1;32mNone\u001b[0m\u001b[1;33m:\u001b[0m\u001b[1;33m\u001b[0m\u001b[1;33m\u001b[0m\u001b[0m\n\u001b[1;32m-> 3560\u001b[1;33m         \u001b[0mself\u001b[0m\u001b[1;33m.\u001b[0m\u001b[0m_mgr\u001b[0m\u001b[1;33m.\u001b[0m\u001b[0miset\u001b[0m\u001b[1;33m(\u001b[0m\u001b[0mloc\u001b[0m\u001b[1;33m,\u001b[0m \u001b[0mvalue\u001b[0m\u001b[1;33m)\u001b[0m\u001b[1;33m\u001b[0m\u001b[1;33m\u001b[0m\u001b[0m\n\u001b[0m\u001b[0;32m   3561\u001b[0m         \u001b[0mself\u001b[0m\u001b[1;33m.\u001b[0m\u001b[0m_clear_item_cache\u001b[0m\u001b[1;33m(\u001b[0m\u001b[1;33m)\u001b[0m\u001b[1;33m\u001b[0m\u001b[1;33m\u001b[0m\u001b[0m\n\u001b[0;32m   3562\u001b[0m \u001b[1;33m\u001b[0m\u001b[0m\n",
      "\u001b[1;32m~\\miniconda3\\envs\\tensorflownew\\lib\\site-packages\\pandas\\core\\internals\\managers.py\u001b[0m in \u001b[0;36miset\u001b[1;34m(self, loc, value)\u001b[0m\n\u001b[0;32m   1073\u001b[0m                     \u001b[0mremoved_blknos\u001b[0m\u001b[1;33m.\u001b[0m\u001b[0mappend\u001b[0m\u001b[1;33m(\u001b[0m\u001b[0mblkno\u001b[0m\u001b[1;33m)\u001b[0m\u001b[1;33m\u001b[0m\u001b[1;33m\u001b[0m\u001b[0m\n\u001b[0;32m   1074\u001b[0m                 \u001b[1;32melse\u001b[0m\u001b[1;33m:\u001b[0m\u001b[1;33m\u001b[0m\u001b[1;33m\u001b[0m\u001b[0m\n\u001b[1;32m-> 1075\u001b[1;33m                     \u001b[0mblk\u001b[0m\u001b[1;33m.\u001b[0m\u001b[0mdelete\u001b[0m\u001b[1;33m(\u001b[0m\u001b[0mblk_locs\u001b[0m\u001b[1;33m)\u001b[0m\u001b[1;33m\u001b[0m\u001b[1;33m\u001b[0m\u001b[0m\n\u001b[0m\u001b[0;32m   1076\u001b[0m                     \u001b[0mself\u001b[0m\u001b[1;33m.\u001b[0m\u001b[0m_blklocs\u001b[0m\u001b[1;33m[\u001b[0m\u001b[0mblk\u001b[0m\u001b[1;33m.\u001b[0m\u001b[0mmgr_locs\u001b[0m\u001b[1;33m.\u001b[0m\u001b[0mindexer\u001b[0m\u001b[1;33m]\u001b[0m \u001b[1;33m=\u001b[0m \u001b[0mnp\u001b[0m\u001b[1;33m.\u001b[0m\u001b[0marange\u001b[0m\u001b[1;33m(\u001b[0m\u001b[0mlen\u001b[0m\u001b[1;33m(\u001b[0m\u001b[0mblk\u001b[0m\u001b[1;33m)\u001b[0m\u001b[1;33m)\u001b[0m\u001b[1;33m\u001b[0m\u001b[1;33m\u001b[0m\u001b[0m\n\u001b[0;32m   1077\u001b[0m \u001b[1;33m\u001b[0m\u001b[0m\n",
      "\u001b[1;32m~\\miniconda3\\envs\\tensorflownew\\lib\\site-packages\\pandas\\core\\internals\\blocks.py\u001b[0m in \u001b[0;36mdelete\u001b[1;34m(self, loc)\u001b[0m\n\u001b[0;32m    335\u001b[0m         \u001b[0mDelete\u001b[0m \u001b[0mgiven\u001b[0m \u001b[0mloc\u001b[0m\u001b[1;33m(\u001b[0m\u001b[1;33m-\u001b[0m\u001b[0ms\u001b[0m\u001b[1;33m)\u001b[0m \u001b[1;32mfrom\u001b[0m \u001b[0mblock\u001b[0m \u001b[1;32min\u001b[0m\u001b[1;33m-\u001b[0m\u001b[0mplace\u001b[0m\u001b[1;33m.\u001b[0m\u001b[1;33m\u001b[0m\u001b[1;33m\u001b[0m\u001b[0m\n\u001b[0;32m    336\u001b[0m         \"\"\"\n\u001b[1;32m--> 337\u001b[1;33m         \u001b[0mself\u001b[0m\u001b[1;33m.\u001b[0m\u001b[0mvalues\u001b[0m \u001b[1;33m=\u001b[0m \u001b[0mnp\u001b[0m\u001b[1;33m.\u001b[0m\u001b[0mdelete\u001b[0m\u001b[1;33m(\u001b[0m\u001b[0mself\u001b[0m\u001b[1;33m.\u001b[0m\u001b[0mvalues\u001b[0m\u001b[1;33m,\u001b[0m \u001b[0mloc\u001b[0m\u001b[1;33m,\u001b[0m \u001b[1;36m0\u001b[0m\u001b[1;33m)\u001b[0m\u001b[1;33m\u001b[0m\u001b[1;33m\u001b[0m\u001b[0m\n\u001b[0m\u001b[0;32m    338\u001b[0m         \u001b[0mself\u001b[0m\u001b[1;33m.\u001b[0m\u001b[0mmgr_locs\u001b[0m \u001b[1;33m=\u001b[0m \u001b[0mself\u001b[0m\u001b[1;33m.\u001b[0m\u001b[0mmgr_locs\u001b[0m\u001b[1;33m.\u001b[0m\u001b[0mdelete\u001b[0m\u001b[1;33m(\u001b[0m\u001b[0mloc\u001b[0m\u001b[1;33m)\u001b[0m\u001b[1;33m\u001b[0m\u001b[1;33m\u001b[0m\u001b[0m\n\u001b[0;32m    339\u001b[0m \u001b[1;33m\u001b[0m\u001b[0m\n",
      "\u001b[1;32m<__array_function__ internals>\u001b[0m in \u001b[0;36mdelete\u001b[1;34m(*args, **kwargs)\u001b[0m\n",
      "\u001b[1;32m~\\miniconda3\\envs\\tensorflownew\\lib\\site-packages\\numpy\\lib\\function_base.py\u001b[0m in \u001b[0;36mdelete\u001b[1;34m(arr, obj, axis)\u001b[0m\n\u001b[0;32m   4407\u001b[0m \u001b[1;33m\u001b[0m\u001b[0m\n\u001b[0;32m   4408\u001b[0m         \u001b[0mslobj\u001b[0m\u001b[1;33m[\u001b[0m\u001b[0maxis\u001b[0m\u001b[1;33m]\u001b[0m \u001b[1;33m=\u001b[0m \u001b[0mkeep\u001b[0m\u001b[1;33m\u001b[0m\u001b[1;33m\u001b[0m\u001b[0m\n\u001b[1;32m-> 4409\u001b[1;33m         \u001b[0mnew\u001b[0m \u001b[1;33m=\u001b[0m \u001b[0marr\u001b[0m\u001b[1;33m[\u001b[0m\u001b[0mtuple\u001b[0m\u001b[1;33m(\u001b[0m\u001b[0mslobj\u001b[0m\u001b[1;33m)\u001b[0m\u001b[1;33m]\u001b[0m\u001b[1;33m\u001b[0m\u001b[1;33m\u001b[0m\u001b[0m\n\u001b[0m\u001b[0;32m   4410\u001b[0m \u001b[1;33m\u001b[0m\u001b[0m\n\u001b[0;32m   4411\u001b[0m     \u001b[1;32mif\u001b[0m \u001b[0mwrap\u001b[0m\u001b[1;33m:\u001b[0m\u001b[1;33m\u001b[0m\u001b[1;33m\u001b[0m\u001b[0m\n",
      "\u001b[1;31mKeyboardInterrupt\u001b[0m: "
     ]
    }
   ],
   "source": [
    "#model.fit automatically finds cpds for each node\n",
    "model.fit(train_df)\n",
    "\n",
    "#compute variable eliminations for node independencies to speed up model \n",
    "infer = VariableElimination(model)"
   ]
  },
  {
   "cell_type": "code",
   "execution_count": null,
   "metadata": {},
   "outputs": [],
   "source": [
    "nx.draw(model, with_labels=True)\n",
    "plt.show()"
   ]
  },
  {
   "cell_type": "code",
   "execution_count": null,
   "metadata": {},
   "outputs": [],
   "source": [
    "model.get_parents('target')"
   ]
  },
  {
   "cell_type": "code",
   "execution_count": null,
   "metadata": {},
   "outputs": [],
   "source": []
  }
 ],
 "metadata": {
  "kernelspec": {
   "display_name": "Python 3.7 (tensorflownew)",
   "language": "python",
   "name": "tensorflownew"
  },
  "language_info": {
   "codemirror_mode": {
    "name": "ipython",
    "version": 3
   },
   "file_extension": ".py",
   "mimetype": "text/x-python",
   "name": "python",
   "nbconvert_exporter": "python",
   "pygments_lexer": "ipython3",
   "version": "3.7.7"
  }
 },
 "nbformat": 4,
 "nbformat_minor": 4
}
